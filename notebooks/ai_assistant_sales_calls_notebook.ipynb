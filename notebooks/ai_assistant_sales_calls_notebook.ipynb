{
 "metadata": {
  "kernelspec": {
   "display_name": "Streamlit Notebook",
   "name": "streamlit"
  }
 },
 "nbformat_minor": 5,
 "nbformat": 4,
 "cells": [
  {
   "cell_type": "markdown",
   "id": "1a61639a-f085-4a1e-bb83-efa303581b8f",
   "metadata": {
    "collapsed": false,
    "name": "md_title",
    "resultHeight": 74
   },
   "source": [
    "# AI Assistant for Sales Calls: Analyzing and Querying Transcripts"
   ]
  },
  {
   "cell_type": "code",
   "execution_count": null,
   "id": "3775908f-ca36-4846-8f38-5adca39217f2",
   "metadata": {
    "codeCollapsed": false,
    "collapsed": false,
    "language": "python",
    "name": "imports",
    "resultHeight": 38
   },
   "outputs": [],
   "source": "# Import python packages\nimport streamlit as st\nimport pandas as pd\nimport matplotlib.pyplot as plt\nimport seaborn as sns\n\n# We can also use Snowpark for our analyses!\nfrom snowflake.snowpark.context import get_active_session\nfrom snowflake.snowpark.functions import month,year,col,sum,count,avg,length,max,min,to_timestamp_ltz\n\n# Cortex Functions\nimport snowflake.cortex  as cortex\n\nsession = get_active_session()\n\n# Add a query tag to the session. This helps with debugging and performance monitoring.\nsession.query_tag = {\"origin\":\"sf_sit-is\", \n                     \"name\":\"ai_assistant_sales_call\", \n                     \"version\":{\"major\":1, \"minor\":0},\n                     \"attributes\":{\"is_quickstart\":1, \"source\":\"notebook\"}}\n\n# Set session context \nsession.use_role(\"SYSADMIN\")\n\n# Print the current role, warehouse, and database/schema\nprint(f\"role: {session.get_current_role()} | WH: {session.get_current_warehouse()} | DB.SCHEMA: {session.get_fully_qualified_current_schema()}\")"
  },
  {
   "cell_type": "markdown",
   "id": "de8c73e5-51cd-4653-bdf0-81c970fa8ff6",
   "metadata": {
    "collapsed": false,
    "name": "md_de",
    "resultHeight": 179
   },
   "source": [
    "## Data exploration\n",
    "Data exploration is the process of examining and analyzing datasets to uncover patterns, trends, and anomalies. For sales call transcripts, it helps us understand key metrics like call duration, transcript lengths, and account associations. This foundational step ensures that we have a clear understanding of the data, enabling effective downstream analysis, summarization, and actionable insights for improving sales strategies and customer interactions."
   ]
  },
  {
   "cell_type": "markdown",
   "id": "10f7852d-e190-45b3-afd6-8f9d52fd962f",
   "metadata": {
    "collapsed": false,
    "name": "md_load",
    "resultHeight": 42
   },
   "source": [
    "Load Tables, i.e. `df = session.table('table_name')`"
   ]
  },
  {
   "cell_type": "code",
   "execution_count": null,
   "id": "4e1b76c2-9e42-4bee-816a-86e57e3ed4a9",
   "metadata": {
    "collapsed": false,
    "language": "python",
    "name": "loaddata",
    "resultHeight": 105
   },
   "outputs": [],
   "source": [
    "# Load tables directly using session.table\n",
    "try:\n",
    "    df_account_d = session.table(\"ACCOUNT_D\")\n",
    "    print(\"Successfully loaded ACCOUNT_D\")\n",
    "except Exception as e:\n",
    "    print(f\"Error loading ACCOUNT_D: {e}\")\n",
    "\n",
    "try:\n",
    "    df_calls_transcript = session.table(\"CALLS_TRANSCRIPT\")\n",
    "    print(\"Successfully loaded CALLS_TRANSCRIPT\")\n",
    "except Exception as e:\n",
    "    print(f\"Error loading CALLS_TRANSCRIPT: {e}\")\n",
    "\n",
    "try:\n",
    "    df_calls = session.table(\"CALLS\")\n",
    "    print(\"Successfully loaded CALLS\")\n",
    "except Exception as e:\n",
    "    print(f\"Error loading CALLS: {e}\")\n",
    "\n",
    "try:\n",
    "    df_gong_gong_call_c = session.table(\"GONG_GONG_CALL_C\")\n",
    "    print(\"Successfully loaded GONG_GONG_CALL_C\")\n",
    "except Exception as e:\n",
    "    print(f\"Error loading GONG_GONG_CALL_C: {e}\")"
   ]
  },
  {
   "cell_type": "markdown",
   "id": "0fbb7066-9a8c-4f8a-934a-a49e607cb8d7",
   "metadata": {
    "collapsed": false,
    "name": "md_accountvalidity",
    "resultHeight": 139
   },
   "source": [
    "### Account Validity by State\n",
    "\n",
    "This cell groups the account data by ACCOUNT_STATE and ETL_VALID_NOW to calculate the number of valid and invalid accounts for each state. The resulting data is sorted by ACCOUNT_STATE in ascending order and provides insights into the distribution of account validity across different states."
   ]
  },
  {
   "cell_type": "code",
   "execution_count": null,
   "id": "bed79bdf-05ab-4a8d-b2fd-f976651b6d76",
   "metadata": {
    "collapsed": false,
    "language": "python",
    "name": "analysis1",
    "resultHeight": 127
   },
   "outputs": [],
   "source": [
    "account_validity_by_state = (\n",
    "    df_account_d.group_by(col(\"ACCOUNT_STATE\"), col(\"ETL_VALID_NOW\"))\n",
    "    .agg(count(\"*\").as_(\"ACCOUNT_COUNT\"))\n",
    "    .sort(col(\"ACCOUNT_STATE\").asc())\n",
    ")\n",
    "\n",
    "account_validity_by_state.show()"
   ]
  },
  {
   "cell_type": "markdown",
   "id": "1e908959-9e79-4d66-b15a-cf261831f2fc",
   "metadata": {
    "collapsed": false,
    "name": "md_stats",
    "resultHeight": 254
   },
   "source": [
    "### Transcript Length Statistics\n",
    "\n",
    "In this cell, we calculate the follwing summary statistics for the lengths of sales call transcripts:\n",
    "\n",
    "1. Average length: To understand the typical size of a transcript.\n",
    "2. Maximum length: To identify the longest transcript.\n",
    "3. Minimum length: To find the shortest transcript.\n",
    "\n",
    "This analysis provides insights into the variability of transcript lengths, which can be useful for evaluating the nature and depth of conversations during sales calls."
   ]
  },
  {
   "cell_type": "code",
   "execution_count": null,
   "id": "d1a445b6-da46-4427-91d9-65cb02506b56",
   "metadata": {
    "collapsed": false,
    "language": "python",
    "name": "analysis2",
    "resultHeight": 127
   },
   "outputs": [],
   "source": [
    "transcript_length_stats = (\n",
    "    df_calls_transcript.select(length(col(\"TRANSCRIPT\")).as_(\"TRANSCRIPT_LENGTH\"))\n",
    "    .agg(\n",
    "        avg(col(\"TRANSCRIPT_LENGTH\")).as_(\"AVG_LENGTH\"),\n",
    "        max(col(\"TRANSCRIPT_LENGTH\")).as_(\"MAX_LENGTH\"),\n",
    "        min(col(\"TRANSCRIPT_LENGTH\")).as_(\"MIN_LENGTH\")\n",
    "    )\n",
    ")\n",
    "\n",
    "transcript_length_stats.show()"
   ]
  },
  {
   "cell_type": "markdown",
   "id": "dd4f63d4-01a3-498c-924d-a30d0cc187c3",
   "metadata": {
    "collapsed": false,
    "name": "md_latecalls",
    "resultHeight": 139
   },
   "source": [
    "### Late Sales Calls\n",
    "\n",
    "In this cell, we identify and count the number of sales calls that started later than their scheduled time. We achieve this by comparing the STARTED and SCHEDULED timestamps and filtering for calls where the start time is later than the scheduled time. The result is the total number of late calls, which can help assess the punctuality and efficiency of the sales team."
   ]
  },
  {
   "cell_type": "code",
   "execution_count": null,
   "id": "22b3cdb1-cb77-4bf0-a768-260a5ff7939a",
   "metadata": {
    "collapsed": false,
    "language": "python",
    "name": "analysis3",
    "resultHeight": 127
   },
   "outputs": [],
   "source": [
    "calls_started_late = (\n",
    "    df_calls\n",
    "    .filter(to_timestamp_ltz(col(\"STARTED\")) > to_timestamp_ltz(col(\"SCHEDULED\")))\n",
    "    .agg(count(\"*\").as_(\"LATE_CALL_COUNT\"))\n",
    ")\n",
    "\n",
    "calls_started_late.show()"
   ]
  },
  {
   "cell_type": "markdown",
   "id": "a44ad99c-e809-4fae-bb26-d1b786cf3fed",
   "metadata": {
    "collapsed": false,
    "name": "md_combined",
    "resultHeight": 190
   },
   "source": [
    "### Summarizing Sales Calls by Title\n",
    "In this cell, we are summarizing the sales calls by their TITLE. We join the df_calls DataFrame with the df_calls_transcript DataFrame using the ID and CALLID columns, respectively. The summary includes the average call duration (CALL_DURATION) and the average transcript length (TRANSCRIPT_LENGTH) for each call title. The result is sorted by CALL_DURATION in descending order to highlight the longest calls. This analysis gives us insights into the duration and length of conversations based on different titles, helping to identify trends and areas for improvement."
   ]
  },
  {
   "cell_type": "code",
   "execution_count": null,
   "id": "30bd9d18-6c4a-4a7b-acf4-abf32bb0ff65",
   "metadata": {
    "collapsed": false,
    "language": "python",
    "name": "analysis4",
    "resultHeight": 329
   },
   "outputs": [],
   "source": [
    "combined_summary = (\n",
    "    df_calls.join(df_calls_transcript, df_calls[\"ID\"] == df_calls_transcript[\"CALLID\"], how=\"inner\")\n",
    "    .group_by(col(\"TITLE\"))\n",
    "    .agg(\n",
    "        avg(col(\"DURATION\").cast(\"float\")).as_(\"CALL_DURATION\"),\n",
    "        avg(length(col(\"TRANSCRIPT\"))).as_(\"TRANSCRIPT_LENGTH\"),\n",
    "    )\n",
    "    .sort(col(\"CALL_DURATION\").desc())\n",
    ")\n",
    "\n",
    "combined_summary.show()"
   ]
  },
  {
   "cell_type": "markdown",
   "id": "55e5d431-30a4-4d97-a66e-d22cafc9cc91",
   "metadata": {
    "collapsed": false,
    "name": "md_visuals",
    "resultHeight": 340
   },
   "source": [
    "### Visualizing Sales Call Duration and Transcript Length\n",
    "In this cell, we are visualizing two aspects of the sales calls:\n",
    "\n",
    "1. Scatter plot: The first plot shows the relationship between CALL_DURATION (in seconds) and TRANSCRIPT_LENGTH (in characters). Each point represents a unique sales call title. This scatter plot helps us visually assess whether longer calls tend to have longer transcripts or if there's no clear correlation.\n",
    "\n",
    "2. Histogram: The second plot displays the distribution of average call durations. This histogram shows how frequent different call durations are across the dataset, helping to identify trends such as common call lengths or any outliers that might require further analysis.\n",
    "\n",
    "These visualizations provide a better understanding of the call data and allow us to detect patterns and areas that might benefit from further exploration."
   ]
  },
  {
   "cell_type": "code",
   "execution_count": null,
   "id": "425e4645-e9e3-46df-9a9a-870bfe51e2b2",
   "metadata": {
    "collapsed": false,
    "language": "python",
    "name": "analysis5",
    "resultHeight": 1987
   },
   "outputs": [],
   "source": [
    "combined_summary_pd = combined_summary.to_pandas()\n",
    "\n",
    "# Scatter plot for Call Duration vs Transcript Length (without legend)\n",
    "plt.figure(figsize=(8, 6))\n",
    "sns.scatterplot(\n",
    "    data=combined_summary_pd,\n",
    "    x=\"CALL_DURATION\",\n",
    "    y=\"TRANSCRIPT_LENGTH\",\n",
    "    color=\"blue\",\n",
    "    alpha=0.7,\n",
    ")\n",
    "plt.title(\"Call Duration vs. Transcript Length\", fontsize=16)\n",
    "plt.xlabel(\"Average Call Duration (seconds)\")\n",
    "plt.ylabel(\"Average Transcript Length (characters)\")\n",
    "plt.tight_layout()\n",
    "plt.show()\n",
    "\n",
    "\n",
    "# Histogram for Call Durations\n",
    "plt.figure(figsize=(10, 6))\n",
    "sns.histplot(\n",
    "    data=combined_summary_pd,\n",
    "    x=\"CALL_DURATION\",\n",
    "    bins=20,\n",
    "    kde=True,\n",
    "    color=\"blue\",\n",
    ")\n",
    "plt.title(\"Distribution of Average Call Durations\", fontsize=16)\n",
    "plt.xlabel(\"Average Call Duration (seconds)\")\n",
    "plt.ylabel(\"Frequency\")\n",
    "plt.tight_layout()\n",
    "plt.show()"
   ]
  },
  {
   "cell_type": "markdown",
   "id": "8375a878-c5bc-46e0-afff-787b2ac304c5",
   "metadata": {
    "collapsed": false,
    "name": "md_grouping",
    "resultHeight": 113
   },
   "source": [
    "### Grouping Calls by Account\n",
    "\n",
    "In this step, we are grouping the data by account and counting the number of calls associated with each account to better understand call volume per account.\n"
   ]
  },
  {
   "cell_type": "code",
   "execution_count": null,
   "id": "44feb705-6221-43c5-9b3a-3a5a2a1248c0",
   "metadata": {
    "collapsed": false,
    "language": "python",
    "name": "analysis6",
    "resultHeight": 1404
   },
   "outputs": [],
   "source": [
    "# Step 1: Join CALLS with GONG_GONG_CALL_C to associate each call with an account\n",
    "calls_gong_join = (\n",
    "    df_calls.join(\n",
    "        df_gong_gong_call_c,\n",
    "        df_calls[\"ID\"] == df_gong_gong_call_c[\"GONG_CALL_ID_C\"], \n",
    "        how=\"left\"\n",
    "    )\n",
    ")\n",
    "\n",
    "# Step 2: Join the resulting dataframe with ACCOUNT_D to get account details\n",
    "account_calls_join = (\n",
    "    calls_gong_join.join(\n",
    "        df_account_d, \n",
    "        df_gong_gong_call_c[\"GONG_PRIMARY_ACCOUNT_C\"] == df_account_d[\"SFDC_ACCOUNT_ID\"],\n",
    "        how=\"left\"\n",
    "    )\n",
    ")\n",
    "\n",
    "# Step 3: Group by GONG_PRIMARY_ACCOUNT_C and count the number of calls associated with each account\n",
    "account_call_count = (\n",
    "    account_calls_join\n",
    "    .group_by(col(\"GONG_PRIMARY_ACCOUNT_C\"))\n",
    "    .agg(count(\"*\").alias(\"CALL_COUNT\"))\n",
    "    .sort(col(\"CALL_COUNT\").desc())\n",
    ")\n",
    "\n",
    "# Show the results\n",
    "account_call_count.show(70)"
   ]
  },
  {
   "cell_type": "markdown",
   "id": "ed344ef8-f298-4657-8721-2be410bd518d",
   "metadata": {
    "collapsed": false,
    "name": "md_insightssetup",
    "resultHeight": 60
   },
   "source": [
    "## Setup for Automated Insights & Analytics"
   ]
  },
  {
   "cell_type": "markdown",
   "id": "d507429c-d197-4d54-9ced-a91f618339c3",
   "metadata": {
    "collapsed": false,
    "name": "md_sentiment",
    "resultHeight": 181
   },
   "source": [
    "### Run Cortex Sentiment using a SQL cell\n",
    "In this step, we are using the `SNOWFLAKE.CORTEX.SENTIMENT` function to analyze the sentiment of the transcripts in the `CALLS_TRANSCRIPT` table. The function returns a sentiment score for each transcript, which will help us understand the overall tone of the call. This analysis will be helpful for categorizing calls as positive, negative, or neutral based on the customer interaction.\n",
    "\n",
    "https://docs.snowflake.com/en/sql-reference/functions/sentiment-snowflake-cortex"
   ]
  },
  {
   "cell_type": "code",
   "execution_count": null,
   "id": "ccfc6766-e060-4051-a778-4aed1f2363cd",
   "metadata": {
    "collapsed": false,
    "language": "sql",
    "name": "sentiment",
    "resultHeight": 112
   },
   "outputs": [],
   "source": [
    "-- Drop columns if they exist\n",
    "ALTER TABLE CALLS_TRANSCRIPT \n",
    "DROP COLUMN IF EXISTS SENTIMENT;\n",
    "\n",
    "-- Add the 'SENTIMENT' column\n",
    "ALTER TABLE CALLS_TRANSCRIPT \n",
    "ADD COLUMN SENTIMENT FLOAT;\n",
    "\n",
    "-- Update the 'SENTIMENT' column with the sentiment scores\n",
    "UPDATE CALLS_TRANSCRIPT\n",
    "SET SENTIMENT = SNOWFLAKE.CORTEX.SENTIMENT(TRANSCRIPT);"
   ]
  },
  {
   "cell_type": "markdown",
   "id": "cde9de37-5bf1-4168-8765-9cab42b59629",
   "metadata": {
    "collapsed": false,
    "name": "md_summarize",
    "resultHeight": 181
   },
   "source": [
    "### Run Cortex Summarize using a SQL cell\n",
    "In this step, we are using the `SNOWFLAKE.CORTEX.SUMMARIZE` function to generate a summary of each call transcript. This will help us quickly grasp the main points of each conversation without having to read through the entire transcript. The summary is useful for identifying key takeaways, trends, and insights from the calls, enabling more efficient data analysis and decision-making.\n",
    "\n",
    "\n",
    "https://docs.snowflake.com/en/sql-reference/functions/summarize-snowflake-cortex"
   ]
  },
  {
   "cell_type": "code",
   "execution_count": null,
   "id": "16dbb67b-16f7-4ab9-97b5-412a633baa72",
   "metadata": {
    "collapsed": false,
    "language": "sql",
    "name": "summarize",
    "resultHeight": 112
   },
   "outputs": [],
   "source": [
    "-- Drop columns if they exist\n",
    "ALTER TABLE CALLS_TRANSCRIPT \n",
    "DROP COLUMN IF EXISTS SUMMARY;\n",
    "\n",
    "-- Add the 'SUMMARY' column\n",
    "ALTER TABLE CALLS_TRANSCRIPT \n",
    "ADD COLUMN SUMMARY STRING;\n",
    "\n",
    "-- Update the 'SUMMARY' column with the summarized data\n",
    "UPDATE CALLS_TRANSCRIPT\n",
    "SET SUMMARY = SNOWFLAKE.CORTEX.SUMMARIZE(TRANSCRIPT);"
   ]
  },
  {
   "cell_type": "markdown",
   "id": "c80b60ed-ae4e-49fd-87a4-f679bdbac263",
   "metadata": {
    "collapsed": false,
    "name": "md_complete",
    "resultHeight": 398
   },
   "source": [
    "### Run Cortex Complete using a SQL cell\n",
    "In this step, we are using the `SNOWFLAKE.CORTEX.COMPLETE` function with a model (`llama3.1-8b`) to extract detailed insights from the call transcripts. We are focusing on three key areas:\n",
    "\n",
    "1. **Product Feedback**: Extracting both positive and negative feedback on the product, emphasizing specific features, benefits, or issues.\n",
    "2. **Competitor Information**: Identifying any mentions or comparisons of competitors, including their products/services and strengths/weaknesses.\n",
    "3. **Sales Activity**: Extracting information about sales-related activities such as deals, pricing, customer purchases, strategies, and follow-up actions.\n",
    "\n",
    "This process allows us to break down each transcript into valuable, structured insights that can guide decision-making in product development, competitive analysis, and sales strategies.\n",
    "\n",
    "\n",
    "https://docs.snowflake.com/en/sql-reference/functions/complete-snowflake-cortex"
   ]
  },
  {
   "cell_type": "code",
   "execution_count": null,
   "id": "38af9200-d403-436a-add9-0512d115ac7f",
   "metadata": {
    "collapsed": false,
    "language": "sql",
    "name": "complete1",
    "resultHeight": 112
   },
   "outputs": [],
   "source": [
    "-- Drop columns if they exist\n",
    "ALTER TABLE CALLS_TRANSCRIPT \n",
    "DROP COLUMN IF EXISTS PRODUCT_FEEDBACK;\n",
    "\n",
    "ALTER TABLE CALLS_TRANSCRIPT \n",
    "DROP COLUMN IF EXISTS COMPETITOR_INFORMATION;\n",
    "\n",
    "ALTER TABLE CALLS_TRANSCRIPT \n",
    "DROP COLUMN IF EXISTS SALES_ACTIVITY;\n",
    "\n",
    "-- Add the columns\n",
    "ALTER TABLE CALLS_TRANSCRIPT\n",
    "ADD COLUMN PRODUCT_FEEDBACK STRING, \n",
    "            COMPETITOR_INFORMATION STRING, \n",
    "            SALES_ACTIVITY STRING;\n",
    "\n",
    "\n",
    "UPDATE CALLS_TRANSCRIPT\n",
    "SET \n",
    "    PRODUCT_FEEDBACK = SNOWFLAKE.CORTEX.COMPLETE(\n",
    "        'llama3-70b',\n",
    "        'Provide the feedback in the following format: \\n\\nProduct Name: [Product Name or Description]\\nPositive Feedback: [Positive feedback here]\\nNegative Feedback: [Negative feedback here]. \\n\\nDo not include any introductory text. Only provide the structured feedback.'\n",
    "        || TRANSCRIPT\n",
    "    ),\n",
    "    COMPETITOR_INFORMATION = SNOWFLAKE.CORTEX.COMPLETE(\n",
    "        'llama3-70b',\n",
    "        'Our company is XYZ Corp. Provide the information in the following format: \\n\\nCompetitor: [Competitor Name]\\nCompetitor Service: [Competitor Service Description]\\nCompetitor Strength: [Competitor Strength]\\nCompetitor weakness: [Competitor Weakness].\\n\\nDo not include any introductory text. Only provide the structured competitor information.'\n",
    "        || TRANSCRIPT\n",
    "    ),\n",
    "    SALES_ACTIVITY = SNOWFLAKE.CORTEX.COMPLETE(\n",
    "        'llama3-70b',\n",
    "        'Provide the information in the following format: \\n\\n<sales activity>: [Sales activity details]. \\n\\nDo not include any introductory text. Only provide the structured sales activity information.'\n",
    "        || TRANSCRIPT\n",
    "    );"
   ]
  },
  {
   "cell_type": "code",
   "execution_count": null,
   "id": "70f409a3-c91c-46c7-8975-caa6234fe1aa",
   "metadata": {
    "collapsed": false,
    "language": "sql",
    "name": "complete2",
    "resultHeight": 112
   },
   "outputs": [],
   "source": [
    "-- Drop columns if they exist\n",
    "ALTER TABLE CALLS_TRANSCRIPT \n",
    "DROP COLUMN IF EXISTS PRODUCT_MENTIONED;\n",
    "\n",
    "ALTER TABLE CALLS_TRANSCRIPT \n",
    "DROP COLUMN IF EXISTS COMPETITOR_MENTIONED;\n",
    "\n",
    "-- Add new columns to CALLS_TRANSCRIPT table for analytics\n",
    "ALTER TABLE CALLS_TRANSCRIPT\n",
    "ADD COLUMN PRODUCT_MENTIONED STRING,\n",
    "            COMPETITOR_MENTIONED STRING;\n",
    "\n",
    "-- Update the new columns with extracted information\n",
    "UPDATE CALLS_TRANSCRIPT\n",
    "SET \n",
    "    PRODUCT_MENTIONED = REGEXP_REPLACE(\n",
    "        SNOWFLAKE.CORTEX.COMPLETE(\n",
    "            'mistral-large2',\n",
    "            'You are a product name extractor. Extract only the product name from the following input text. Return the product name as plain text without any prefixes, labels, or formatting.'\n",
    "            || PRODUCT_FEEDBACK\n",
    "        ), '\\\\.$', ''\n",
    "    ),\n",
    "    COMPETITOR_MENTIONED = REGEXP_REPLACE(\n",
    "        SNOWFLAKE.CORTEX.COMPLETE(\n",
    "            'mistral-large2', \n",
    "            'You are a competitor name extractor. Extract only the competitor name from the following input text. Return the competitor name as plain text without any prefixes, labels, or formatting. '\n",
    "            || COMPETITOR_INFORMATION\n",
    "        ), '\\\\.$', ''\n",
    "    );"
   ]
  },
  {
   "cell_type": "markdown",
   "id": "219a3459-21a1-4d02-ba1e-4e3f7fdc7403",
   "metadata": {
    "collapsed": false,
    "name": "md_search",
    "resultHeight": 281
   },
   "source": [
    "### Create Cortex Search service\n",
    "\n",
    "In this step, we are creating a **Cortex Search Service** on the `CALLS_TRANSCRIPT` table. The goal is to enable semantic search capabilities that will allow us to efficiently query and retrieve relevant information from the transcripts. \n",
    "\n",
    "- **Attributes**: The search service will use `ID` as the key identifier for each record.\n",
    "- **Data Transformation**: The `TRANSCRIPT` field is being converted to a string and renamed as `CHUNK` to align with the expected input for the search engine.\n",
    "- **Search Warehouse**: We specify the warehouse for performing the search operations.\n",
    "\n",
    "This search service will allow us to perform complex text searches and efficiently analyze the contents of the sales call transcripts.\n"
   ]
  },
  {
   "cell_type": "code",
   "execution_count": null,
   "id": "e0e7d8e1-1e31-4a7d-8bab-42c3ca12ae10",
   "metadata": {
    "collapsed": false,
    "language": "sql",
    "name": "search",
    "resultHeight": 112
   },
   "outputs": [],
   "source": "CREATE OR REPLACE CORTEX SEARCH SERVICE call_transcript_search_service\n  ON CHUNK\n  ATTRIBUTES ID\n  WAREHOUSE = SALES_CALLS_WH\n  TARGET_LAG = '1 day'\n  AS (\n    SELECT\n        CALLID AS ID,\n        TRANSCRIPT::STRING AS CHUNK \n    FROM CALLS_TRANSCRIPT\n);"
  },
  {
   "cell_type": "markdown",
   "id": "cf8b8f15-fafc-47fa-93ef-580ed03e4f77",
   "metadata": {
    "collapsed": false,
    "name": "md_query",
    "resultHeight": 93
   },
   "source": [
    "In this cell, we use `SNOWFLAKE.CORTEX.SEARCH_PREVIEW` to search for transcripts containing \"CompetitorA\" in the call_transcript_search_service. The query retrieves the ID and CHUNK columns, with a limit of 1 result. The matching results are parsed to extract the relevant transcript information, helping identify competitor-related content in sales calls."
   ]
  },
  {
   "cell_type": "code",
   "execution_count": null,
   "id": "4fec0152-7267-4179-8c2e-780435cc7c44",
   "metadata": {
    "language": "sql",
    "name": "query",
    "resultHeight": 112,
    "collapsed": false
   },
   "outputs": [],
   "source": [
    "SELECT PARSE_JSON(\n",
    "  SNOWFLAKE.CORTEX.SEARCH_PREVIEW(\n",
    "     'call_transcript_search_service',\n",
    "      '{\n",
    "        \"query\": \"CompetitorA\",\n",
    "        \"columns\":[\n",
    "            \"ID\",\n",
    "            \"CHUNK\"\n",
    "        ],\n",
    "        \"limit\":1\n",
    "      }'\n",
    "  )\n",
    ")['results'] as results;"
   ]
  }
 ]
}
